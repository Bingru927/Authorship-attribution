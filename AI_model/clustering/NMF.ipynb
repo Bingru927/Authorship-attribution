{
 "cells": [
  {
   "cell_type": "code",
   "execution_count": 52,
   "metadata": {
    "collapsed": true
   },
   "outputs": [],
   "source": [
    "import numpy as np\n",
    "from sklearn.feature_extraction.text import TfidfVectorizer\n",
    "from sklearn.cluster import AgglomerativeClustering\n",
    "from matplotlib.colors import ListedColormap\n",
    "import json\n",
    "import tqdm\n",
    "import re\n",
    "from sklearn.decomposition import NMF\n",
    "import matplotlib.pyplot as plt\n",
    "import nltk\n",
    "import numpy as np\n",
    "import matplotlib.pyplot as plt\n",
    "import os\n",
    "import json\n",
    "from pandas.io.json import json_normalize\n",
    "import pandas as pd\n",
    "import pickle as pk\n",
    "\n",
    "from nltk.tokenize import word_tokenize\n",
    "import statistics\n",
    "import seaborn as sns\n",
    "from gensim.models import Word2Vec\n",
    "\n",
    "# 导入所需的库\n",
    "from sklearn.feature_extraction.text import CountVectorizer\n",
    "from sklearn.decomposition import LatentDirichletAllocation"
   ]
  },
  {
   "cell_type": "code",
   "execution_count": 53,
   "outputs": [],
   "source": [
    "def get_data_path(data_dir):\n",
    "    dirs = os.listdir(data_dir)\n",
    "\n",
    "    for path in dirs:\n",
    "        if \"_train_\" in path:\n",
    "            train_path = os.path.join(data_dir,path)\n",
    "        elif \"_val_\" in path:\n",
    "            val_path = os.path.join(data_dir,path)\n",
    "        elif \"_test_\" in path:\n",
    "            test_path = os.path.join(data_dir,path)\n",
    "    return train_path, val_path, test_path"
   ],
   "metadata": {
    "collapsed": false
   }
  },
  {
   "cell_type": "code",
   "execution_count": 54,
   "outputs": [],
   "source": [
    "def getDataJSON(route):\n",
    "    with open(route,\"r\",encoding=\"utf-8\") as f:\n",
    "        result = [json.loads(line) for line in f.read().splitlines()]\n",
    "    return result"
   ],
   "metadata": {
    "collapsed": false
   }
  },
  {
   "cell_type": "code",
   "execution_count": 55,
   "outputs": [],
   "source": [
    "def get_data(path, ngram_range=(1,2)):\n",
    "    data = pd.DataFrame(getDataJSON(path))\n",
    "    return data"
   ],
   "metadata": {
    "collapsed": false
   }
  },
  {
   "cell_type": "code",
   "execution_count": 56,
   "outputs": [],
   "source": [
    "data_dir = '/Users/bingru/Workspace/ML/IndividualProject/Data/darkreddit_authorship_attribution_anon'\n",
    "\n",
    "train_path, val_path, test_path = get_data_path(data_dir)"
   ],
   "metadata": {
    "collapsed": false
   }
  },
  {
   "cell_type": "code",
   "execution_count": 57,
   "outputs": [],
   "source": [
    "train = get_data(train_path)\n",
    "val = get_data(val_path)\n",
    "test = get_data(test_path)"
   ],
   "metadata": {
    "collapsed": false
   }
  },
  {
   "cell_type": "code",
   "execution_count": 58,
   "outputs": [
    {
     "data": {
      "text/plain": "      author                                            comment\n0      user1  lol, I don't think you'd be fucking over DeafP...\n1      user1  You know, I think you might be right.  In fact...\n2      user1  Yeah, my guess is that its overlooked somewher...\n3      user1  I'd be curious what drugs are actually cheaper...\n4      user1  &gt; wtf is a partial ship?\\n\\nLMFAO!  I was w...\n...      ...                                                ...\n6812  user10  Incidentally, this is a historic occasion: Tom...\n6813  user10  If you're buying, you're buying. A lot of peop...\n6814  user10  But he also ran an insecure market which delib...\n6815  user10  We heard about the confiscation a week or two ...\n6816  user10  If they steal and break the law, so what? Woul...\n\n[6817 rows x 2 columns]",
      "text/html": "<div>\n<style scoped>\n    .dataframe tbody tr th:only-of-type {\n        vertical-align: middle;\n    }\n\n    .dataframe tbody tr th {\n        vertical-align: top;\n    }\n\n    .dataframe thead th {\n        text-align: right;\n    }\n</style>\n<table border=\"1\" class=\"dataframe\">\n  <thead>\n    <tr style=\"text-align: right;\">\n      <th></th>\n      <th>author</th>\n      <th>comment</th>\n    </tr>\n  </thead>\n  <tbody>\n    <tr>\n      <th>0</th>\n      <td>user1</td>\n      <td>lol, I don't think you'd be fucking over DeafP...</td>\n    </tr>\n    <tr>\n      <th>1</th>\n      <td>user1</td>\n      <td>You know, I think you might be right.  In fact...</td>\n    </tr>\n    <tr>\n      <th>2</th>\n      <td>user1</td>\n      <td>Yeah, my guess is that its overlooked somewher...</td>\n    </tr>\n    <tr>\n      <th>3</th>\n      <td>user1</td>\n      <td>I'd be curious what drugs are actually cheaper...</td>\n    </tr>\n    <tr>\n      <th>4</th>\n      <td>user1</td>\n      <td>&amp;gt; wtf is a partial ship?\\n\\nLMFAO!  I was w...</td>\n    </tr>\n    <tr>\n      <th>...</th>\n      <td>...</td>\n      <td>...</td>\n    </tr>\n    <tr>\n      <th>6812</th>\n      <td>user10</td>\n      <td>Incidentally, this is a historic occasion: Tom...</td>\n    </tr>\n    <tr>\n      <th>6813</th>\n      <td>user10</td>\n      <td>If you're buying, you're buying. A lot of peop...</td>\n    </tr>\n    <tr>\n      <th>6814</th>\n      <td>user10</td>\n      <td>But he also ran an insecure market which delib...</td>\n    </tr>\n    <tr>\n      <th>6815</th>\n      <td>user10</td>\n      <td>We heard about the confiscation a week or two ...</td>\n    </tr>\n    <tr>\n      <th>6816</th>\n      <td>user10</td>\n      <td>If they steal and break the law, so what? Woul...</td>\n    </tr>\n  </tbody>\n</table>\n<p>6817 rows × 2 columns</p>\n</div>"
     },
     "execution_count": 58,
     "metadata": {},
     "output_type": "execute_result"
    }
   ],
   "source": [
    "train"
   ],
   "metadata": {
    "collapsed": false
   }
  },
  {
   "cell_type": "code",
   "execution_count": 59,
   "outputs": [],
   "source": [
    "data =pd.concat([train, val, test], axis=0)"
   ],
   "metadata": {
    "collapsed": false
   }
  },
  {
   "cell_type": "code",
   "execution_count": 60,
   "outputs": [
    {
     "data": {
      "text/plain": "      author                                            comment\n0      user1  lol, I don't think you'd be fucking over DeafP...\n1      user1  You know, I think you might be right.  In fact...\n2      user1  Yeah, my guess is that its overlooked somewher...\n3      user1  I'd be curious what drugs are actually cheaper...\n4      user1  &gt; wtf is a partial ship?\\n\\nLMFAO!  I was w...\n...      ...                                                ...\n2271  user10  No, the feds are not so kind as to give public...\n2272  user10  Of course it struck me as odd, and I deliberat...\n2273  user10  &gt; You had me until this post, and then you ...\n2274  user10  Wait, am I reading this correctly?\\n\\n&gt; Ins...\n2275  user10  Still nothing useful in the Loudoun General Di...\n\n[11368 rows x 2 columns]",
      "text/html": "<div>\n<style scoped>\n    .dataframe tbody tr th:only-of-type {\n        vertical-align: middle;\n    }\n\n    .dataframe tbody tr th {\n        vertical-align: top;\n    }\n\n    .dataframe thead th {\n        text-align: right;\n    }\n</style>\n<table border=\"1\" class=\"dataframe\">\n  <thead>\n    <tr style=\"text-align: right;\">\n      <th></th>\n      <th>author</th>\n      <th>comment</th>\n    </tr>\n  </thead>\n  <tbody>\n    <tr>\n      <th>0</th>\n      <td>user1</td>\n      <td>lol, I don't think you'd be fucking over DeafP...</td>\n    </tr>\n    <tr>\n      <th>1</th>\n      <td>user1</td>\n      <td>You know, I think you might be right.  In fact...</td>\n    </tr>\n    <tr>\n      <th>2</th>\n      <td>user1</td>\n      <td>Yeah, my guess is that its overlooked somewher...</td>\n    </tr>\n    <tr>\n      <th>3</th>\n      <td>user1</td>\n      <td>I'd be curious what drugs are actually cheaper...</td>\n    </tr>\n    <tr>\n      <th>4</th>\n      <td>user1</td>\n      <td>&amp;gt; wtf is a partial ship?\\n\\nLMFAO!  I was w...</td>\n    </tr>\n    <tr>\n      <th>...</th>\n      <td>...</td>\n      <td>...</td>\n    </tr>\n    <tr>\n      <th>2271</th>\n      <td>user10</td>\n      <td>No, the feds are not so kind as to give public...</td>\n    </tr>\n    <tr>\n      <th>2272</th>\n      <td>user10</td>\n      <td>Of course it struck me as odd, and I deliberat...</td>\n    </tr>\n    <tr>\n      <th>2273</th>\n      <td>user10</td>\n      <td>&amp;gt; You had me until this post, and then you ...</td>\n    </tr>\n    <tr>\n      <th>2274</th>\n      <td>user10</td>\n      <td>Wait, am I reading this correctly?\\n\\n&amp;gt; Ins...</td>\n    </tr>\n    <tr>\n      <th>2275</th>\n      <td>user10</td>\n      <td>Still nothing useful in the Loudoun General Di...</td>\n    </tr>\n  </tbody>\n</table>\n<p>11368 rows × 2 columns</p>\n</div>"
     },
     "execution_count": 60,
     "metadata": {},
     "output_type": "execute_result"
    }
   ],
   "source": [
    "data"
   ],
   "metadata": {
    "collapsed": false
   }
  },
  {
   "cell_type": "code",
   "execution_count": 61,
   "outputs": [],
   "source": [
    "# Define acronym substitution table\n",
    "abbreviation_dict = {\n",
    "    \"u\": \"you\",\n",
    "    \"r\": \"are\",\n",
    "    \"y\": \"why\",\n",
    "    \"b\": \"be\",\n",
    "    \"c\": \"see\",\n",
    "    \"w\": \"with\",\n",
    "    \"hru\": \"how are you\",\n",
    "    \"luv\": \"love\",\n",
    "    \"gr8\": \"great\",\n",
    "    \"2\": \"to\",\n",
    "    \"4\": \"for\",\n",
    "    \"b4\": \"before\",\n",
    "    \"bc\": \"because\",\n",
    "    \"cuz\": \"because\",\n",
    "    \"thx\": \"thanks\",\n",
    "    \"plz\": \"please\",\n",
    "    \"pls\": \"please\",\n",
    "    \"sry\": \"sorry\",\n",
    "    \"fam\": \"family\",\n",
    "    \"bro\": \"brother\",\n",
    "    \"sis\": \"sister\",\n",
    "    \"gf\": \"girlfriend\",\n",
    "    \"bf\": \"boyfriend\",\n",
    "    \"ain't\": \"is not\",\n",
    "    \"aren't\": \"are not\",\n",
    "    \"can't\": \"cannot\",\n",
    "    \"'cause\": \"because\",\n",
    "    \"could've\": \"could have\",\n",
    "    \"couldn't\": \"could not\",\n",
    "    \"didn't\": \"did not\",\n",
    "    \"doesn't\": \"does not\",\n",
    "    \"don't\": \"do not\",\n",
    "    \"hadn't\": \"had not\",\n",
    "    \"hasn't\": \"has not\",\n",
    "    \"haven't\": \"have not\",\n",
    "    \"he'd\": \"he would\",\n",
    "    \"he'll\": \"he will\",\n",
    "    \"he's\": \"he is\",\n",
    "    \"how'd\": \"how did\",\n",
    "    \"how'd'y\": \"how do you\",\n",
    "    \"how'll\": \"how will\",\n",
    "    \"how's\": \"how is\",\n",
    "    \"i'd\": \"I would\",\n",
    "    \"i'd've\": \"I would have\",\n",
    "    \"i'll\": \"I will\",\n",
    "    \"i'll've\": \"I will have\",\n",
    "    \"i'm\": \"I am\",\n",
    "    \"i've\": \"I have\",\n",
    "    \"you're\": \"you are\",\n",
    "    \"isn't\": \"is not\",\n",
    "    \"it'd\": \"it would\",\n",
    "    \"it'd've\": \"it would have\",\n",
    "    \"it'll\": \"it will\",\n",
    "    \"it'll've\": \"it will have\",\n",
    "    \"it's\": \"it is\",\n",
    "    \"let's\": \"let us\",\n",
    "    \"ma'am\": \"madam\",\n",
    "    \"mayn't\": \"may not\",\n",
    "    \"might've\": \"might have\",\n",
    "    \"mightn't\": \"might not\",\n",
    "    \"mightn't've\": \"might not have\",\n",
    "    \"must've\": \"must have\",\n",
    "    \"mustn't\": \"must not\",\n",
    "    \"mustn't've\": \"must not have\",\n",
    "    \"needn't\": \"need not\",\n",
    "    \"needn't've\": \"need not have\",\n",
    "    \"o'clock\": \"of the clock\",\n",
    "    \"oughtn't\": \"ought not\",\n",
    "    \"oughtn't've\": \"ought not have\",\n",
    "    \"shan't\": \"shall not\",\n",
    "    \"sha'n't\": \"shall not\",\n",
    "    \"shan't've\": \"shall not have\",\n",
    "    \"she'd\": \"she would\",\n",
    "    \"she'd've\": \"she would have\",\n",
    "    \"she'll\": \"she will\",\n",
    "    \"she'll've\": \"she will have\",\n",
    "    \"she's\": \"she is\",\n",
    "    \"should've\": \"should have\",\n",
    "    \"shouldn't\": \"should not\",\n",
    "    \"shouldn't've\": \"should not have\",\n",
    "    \"so've\": \"so have\",\n",
    "    \"so's\": \"so is\",\n",
    "    \"that'd\": \"that would\",\n",
    "    \"that'd've\": \"that would have\",\n",
    "    \"that's\": \"that is\",\n",
    "    \"there'd\": \"there would\",\n",
    "    \"there'd've\": \"there would have\",\n",
    "    \"there's\": \"there is\",\n",
    "    \"they'd\": \"they would\",\n",
    "    \"they'd've\": \"they would have\",\n",
    "    \"they'll\": \"they will\",\n",
    "    \"they'll've\": \"they will have\",\n",
    "    \"they're\": \"they are\",\n",
    "    \"they've\": \"they have\",\n",
    "    \"to've\": \"to have\",\n",
    "    \"wasn't\": \"was not\",\n",
    "    \"we'd\": \"we would\",\n",
    "    \"we'd've\": \"we would have\",\n",
    "    \"we'll\": \"we will\",\n",
    "}\n",
    "\n",
    "# 定义口语化词汇替换表\n",
    "colloquial_dict = {\n",
    "    \"gonna\": \"going to\",\n",
    "    \"wanna\": \"want to\",\n",
    "    \"gotta\": \"got to\",\n",
    "    \"hafta\": \"have to\",\n",
    "    \"kinda\": \"kind of\",\n",
    "    \"sorta\": \"sort of\",\n",
    "    \"lemme\": \"let me\",\n",
    "    \"gimme\": \"give me\",\n",
    "    \"getcha\": \"get you\",\n",
    "    \"gotcha\": \"got you\",\n",
    "    \"don't\": \"do not\",\n",
    "    \"didn't\": \"did not\",\n",
    "    \"doesn't\": \"does not\",\n",
    "    \"aren't\": \"are not\",\n",
    "    \"isn't\": \"is not\",\n",
    "    \"wasn't\": \"was not\",\n",
    "    \"weren't\": \"were not\",\n",
    "    \"haven't\": \"have not\",\n",
    "    \"hasn't\": \"has not\",\n",
    "    \"hadn't\": \"had not\",\n",
    "    \"shouldn't\": \"should not\",\n",
    "    \"wouldn't\": \"would not\",\n",
    "    \"couldn't\": \"could not\",\n",
    "    \"can't\": \"cannot\",\n",
    "    \"won't\": \"will not\",\n",
    "    \"mightn't\": \"might not\",\n",
    "    \"mustn't\": \"must not\",\n",
    "    \"shoulda\": \"should have\",\n",
    "    \"woulda\": \"would have\",\n",
    "    \"coulda\": \"could have\",\n",
    "    \"mighta\": \"might have\",\n",
    "    \"musta\": \"must have\",\n",
    "}"
   ],
   "metadata": {
    "collapsed": false
   }
  },
  {
   "cell_type": "code",
   "execution_count": 62,
   "outputs": [],
   "source": [
    "slangs = ['omg', 'wtf', 'lol', 'gt', 'URL']\n",
    "adjectives = ['good', 'bad', 'happy', 'sad', 'nice']\n",
    "adverbs = ['very', 'really', 'so', 'just']\n",
    "profanities = ['fuck', 'shit']"
   ],
   "metadata": {
    "collapsed": false
   }
  },
  {
   "cell_type": "code",
   "execution_count": 64,
   "outputs": [
    {
     "name": "stderr",
     "output_type": "stream",
     "text": [
      "Processing train data : 100%|██████████| 11368/11368 [00:11<00:00, 978.61it/s] \n"
     ]
    }
   ],
   "source": [
    "from nltk import WordNetLemmatizer\n",
    "X = []\n",
    "\n",
    "deleteWord = slangs + adjectives + adverbs + profanities\n",
    "colloquial_dict.update(abbreviation_dict)\n",
    "\n",
    "for text in tqdm.tqdm(data['comment'], desc=\"Processing train data \"):\n",
    "    text = text.lower()\n",
    "    for k, v in colloquial_dict.items():\n",
    "        text = re.sub(r'\\b' + k + r'\\b', v, text)\n",
    "    text = re.sub(r'http\\S+', ' URL ', text)\n",
    "    text = re.sub(r'[^\\w\\s]', '', text)\n",
    "    text = re.sub(r'[@$%^&*()]', '', text)\n",
    "    pattern = '|'.join([re.escape(s) for s in deleteWord])\n",
    "    cleaned_text = re.sub(pattern, '', text)\n",
    "    cleaned_text = re.sub(r'\\s+', ' ', cleaned_text)\n",
    "    X.append(cleaned_text)"
   ],
   "metadata": {
    "collapsed": false
   }
  },
  {
   "cell_type": "code",
   "execution_count": 65,
   "outputs": [
    {
     "name": "stderr",
     "output_type": "stream",
     "text": [
      "Delete adj, vb, and adv: 100%|██████████| 11368/11368 [00:35<00:00, 319.88it/s]\n"
     ]
    }
   ],
   "source": [
    "# pos\n",
    "# Delete verbs Adverbs Adjectives\n",
    "X_pre_remove = []\n",
    "from nltk.stem import PorterStemmer\n",
    "porter = PorterStemmer()\n",
    "for text in tqdm.tqdm(X, desc=\"Delete adj, vb, and adv: \"):\n",
    "    t = nltk.word_tokenize(text)\n",
    "    t = nltk.pos_tag(t)\n",
    "    tag = []\n",
    "    for i in t:\n",
    "        # , \"JJS\", \"RBR\", \"RBS\", \"VB\", \"VBN\", \"VBG\", \"CD\", \"VBP\"\n",
    "        if str(i[1]) not in [\"JJ\", \"RB\", \"JJR\"]:\n",
    "            tag.append(i[0])\n",
    "    text = \" \".join(tag)\n",
    "    X_pre_remove.append(text)"
   ],
   "metadata": {
    "collapsed": false
   }
  },
  {
   "cell_type": "code",
   "execution_count": 66,
   "outputs": [
    {
     "name": "stdout",
     "output_type": "stream",
     "text": [
      "I would be what drugs are on the darknet than buying from the pharmacy witho insurance painkillers are on the darknet me others are like bought from canada or me i bull on me of hte stats they said half the drugs bought are think it depends on where you buy them if you buy from an pharmacy they will be or from vendors who buy from these offshore pharmas but that is to lump that besee if you order from them youve got to realize you are getting grade drugs there was a cancer drug that was counterfeited and ld to legitimate pharmas and hospitals this is on the dnms in my mind they need to use a stat of counterfeits that imitate a medication like the pill shape color stamps etc I have been thinking of doing spot checking on my orders which are and sending to those labs that will test the pill if this would interest anyone i could post the results but how it would be to the community since my drug range is and order from a vendors at the I am going to do it for my ease besee I am by nature and would like me assurance i have no rean to suspect but its to have confirmation I would contribute to others sending out a pill to a lab and posting the results think that is to the community esp amongst the pill people\n"
     ]
    }
   ],
   "source": [
    "print(X_pre_remove[3])"
   ],
   "metadata": {
    "collapsed": false
   }
  },
  {
   "cell_type": "code",
   "execution_count": 67,
   "outputs": [],
   "source": [
    "vectorizer = TfidfVectorizer(max_features=10000, stop_words='english')  # 将文本向量化\n",
    "X = vectorizer.fit_transform(X_pre_remove).toarray()  # 将文本转换为 TF-IDF 特征向量"
   ],
   "metadata": {
    "collapsed": false
   }
  },
  {
   "cell_type": "code",
   "execution_count": 67,
   "outputs": [],
   "source": [],
   "metadata": {
    "collapsed": false
   }
  },
  {
   "cell_type": "code",
   "execution_count": 72,
   "outputs": [],
   "source": [
    "NMFmodel = NMF(\n",
    "    n_components=10,  # topics\n",
    "    max_iter=1000,\n",
    "    init='nndsvd',\n",
    "    random_state=0,\n",
    ")"
   ],
   "metadata": {
    "collapsed": false
   }
  },
  {
   "cell_type": "code",
   "execution_count": 73,
   "outputs": [
    {
     "data": {
      "text/plain": "NMF(init='nndsvd', max_iter=1000, n_components=10, random_state=0)",
      "text/html": "<style>#sk-container-id-4 {color: black;background-color: white;}#sk-container-id-4 pre{padding: 0;}#sk-container-id-4 div.sk-toggleable {background-color: white;}#sk-container-id-4 label.sk-toggleable__label {cursor: pointer;display: block;width: 100%;margin-bottom: 0;padding: 0.3em;box-sizing: border-box;text-align: center;}#sk-container-id-4 label.sk-toggleable__label-arrow:before {content: \"▸\";float: left;margin-right: 0.25em;color: #696969;}#sk-container-id-4 label.sk-toggleable__label-arrow:hover:before {color: black;}#sk-container-id-4 div.sk-estimator:hover label.sk-toggleable__label-arrow:before {color: black;}#sk-container-id-4 div.sk-toggleable__content {max-height: 0;max-width: 0;overflow: hidden;text-align: left;background-color: #f0f8ff;}#sk-container-id-4 div.sk-toggleable__content pre {margin: 0.2em;color: black;border-radius: 0.25em;background-color: #f0f8ff;}#sk-container-id-4 input.sk-toggleable__control:checked~div.sk-toggleable__content {max-height: 200px;max-width: 100%;overflow: auto;}#sk-container-id-4 input.sk-toggleable__control:checked~label.sk-toggleable__label-arrow:before {content: \"▾\";}#sk-container-id-4 div.sk-estimator input.sk-toggleable__control:checked~label.sk-toggleable__label {background-color: #d4ebff;}#sk-container-id-4 div.sk-label input.sk-toggleable__control:checked~label.sk-toggleable__label {background-color: #d4ebff;}#sk-container-id-4 input.sk-hidden--visually {border: 0;clip: rect(1px 1px 1px 1px);clip: rect(1px, 1px, 1px, 1px);height: 1px;margin: -1px;overflow: hidden;padding: 0;position: absolute;width: 1px;}#sk-container-id-4 div.sk-estimator {font-family: monospace;background-color: #f0f8ff;border: 1px dotted black;border-radius: 0.25em;box-sizing: border-box;margin-bottom: 0.5em;}#sk-container-id-4 div.sk-estimator:hover {background-color: #d4ebff;}#sk-container-id-4 div.sk-parallel-item::after {content: \"\";width: 100%;border-bottom: 1px solid gray;flex-grow: 1;}#sk-container-id-4 div.sk-label:hover label.sk-toggleable__label {background-color: #d4ebff;}#sk-container-id-4 div.sk-serial::before {content: \"\";position: absolute;border-left: 1px solid gray;box-sizing: border-box;top: 0;bottom: 0;left: 50%;z-index: 0;}#sk-container-id-4 div.sk-serial {display: flex;flex-direction: column;align-items: center;background-color: white;padding-right: 0.2em;padding-left: 0.2em;position: relative;}#sk-container-id-4 div.sk-item {position: relative;z-index: 1;}#sk-container-id-4 div.sk-parallel {display: flex;align-items: stretch;justify-content: center;background-color: white;position: relative;}#sk-container-id-4 div.sk-item::before, #sk-container-id-4 div.sk-parallel-item::before {content: \"\";position: absolute;border-left: 1px solid gray;box-sizing: border-box;top: 0;bottom: 0;left: 50%;z-index: -1;}#sk-container-id-4 div.sk-parallel-item {display: flex;flex-direction: column;z-index: 1;position: relative;background-color: white;}#sk-container-id-4 div.sk-parallel-item:first-child::after {align-self: flex-end;width: 50%;}#sk-container-id-4 div.sk-parallel-item:last-child::after {align-self: flex-start;width: 50%;}#sk-container-id-4 div.sk-parallel-item:only-child::after {width: 0;}#sk-container-id-4 div.sk-dashed-wrapped {border: 1px dashed gray;margin: 0 0.4em 0.5em 0.4em;box-sizing: border-box;padding-bottom: 0.4em;background-color: white;}#sk-container-id-4 div.sk-label label {font-family: monospace;font-weight: bold;display: inline-block;line-height: 1.2em;}#sk-container-id-4 div.sk-label-container {text-align: center;}#sk-container-id-4 div.sk-container {/* jupyter's `normalize.less` sets `[hidden] { display: none; }` but bootstrap.min.css set `[hidden] { display: none !important; }` so we also need the `!important` here to be able to override the default hidden behavior on the sphinx rendered scikit-learn.org. See: https://github.com/scikit-learn/scikit-learn/issues/21755 */display: inline-block !important;position: relative;}#sk-container-id-4 div.sk-text-repr-fallback {display: none;}</style><div id=\"sk-container-id-4\" class=\"sk-top-container\"><div class=\"sk-text-repr-fallback\"><pre>NMF(init=&#x27;nndsvd&#x27;, max_iter=1000, n_components=10, random_state=0)</pre><b>In a Jupyter environment, please rerun this cell to show the HTML representation or trust the notebook. <br />On GitHub, the HTML representation is unable to render, please try loading this page with nbviewer.org.</b></div><div class=\"sk-container\" hidden><div class=\"sk-item\"><div class=\"sk-estimator sk-toggleable\"><input class=\"sk-toggleable__control sk-hidden--visually\" id=\"sk-estimator-id-4\" type=\"checkbox\" checked><label for=\"sk-estimator-id-4\" class=\"sk-toggleable__label sk-toggleable__label-arrow\">NMF</label><div class=\"sk-toggleable__content\"><pre>NMF(init=&#x27;nndsvd&#x27;, max_iter=1000, n_components=10, random_state=0)</pre></div></div></div></div></div>"
     },
     "execution_count": 73,
     "metadata": {},
     "output_type": "execute_result"
    }
   ],
   "source": [
    "NMFmodel.fit(X)"
   ],
   "metadata": {
    "collapsed": false
   }
  },
  {
   "cell_type": "code",
   "execution_count": 74,
   "outputs": [
    {
     "name": "stdout",
     "output_type": "stream",
     "text": [
      "Topic #0:\n",
      "people use lot want markets think make meone things eone going drugs sub help using\n",
      "\n",
      "Topic #1:\n",
      "thread questions sunday threads opened link question rules thanks posted understanding information urces inquiries removed\n",
      "\n",
      "Topic #2:\n",
      "bitcoin wallet market escrow coins money agora use btc deposit cash address wallets bitcoins coinbase\n",
      "\n",
      "Topic #3:\n",
      "vendor vendors order fe product feedback customers escrow reviews customer shipping orders stealth review buyers\n",
      "\n",
      "Topic #4:\n",
      "mail package address tracking box drugs packages pack house order priority po sent office cd\n",
      "\n",
      "Topic #5:\n",
      "account reddit shadowbanned admins tor spam contact make approved site accounts posts comments means rean\n",
      "\n",
      "Topic #6:\n",
      "meth drugs mdma drug like sell weed buy darknet customers smoke cut gram lsd selling\n",
      "\n",
      "Topic #7:\n",
      "like did know time think mething got going said does yeah way say guess thing\n",
      "\n",
      "Topic #8:\n",
      "rules read subreddit advertising ban questions sidebar threads allow guidelines submission message banned posts ads\n",
      "\n",
      "Topic #9:\n",
      "post threads sub office removed edit remove sidebar flair submissions brackets make add posts thanks\n",
      "\n"
     ]
    }
   ],
   "source": [
    "n_top_words = 15\n",
    "feature_names = vectorizer.get_feature_names_out()\n",
    "for topic_idx, topic in enumerate(NMFmodel.components_):\n",
    "    print(\"Topic #%d:\" % topic_idx)\n",
    "    print(\" \".join([feature_names[i] for i in topic.argsort()[:-n_top_words - 1:-1]]))\n",
    "    print()"
   ],
   "metadata": {
    "collapsed": false
   }
  },
  {
   "cell_type": "code",
   "execution_count": 75,
   "outputs": [],
   "source": [
    "def vectorize_text(text_data):\n",
    "    vectorizer = CountVectorizer(stop_words='english')\n",
    "    vectorized = vectorizer.fit_transform(text_data)\n",
    "    return vectorized, vectorizer"
   ],
   "metadata": {
    "collapsed": false
   }
  },
  {
   "cell_type": "code",
   "execution_count": 76,
   "outputs": [],
   "source": [
    "def run_nmf(text_data, n_topics):\n",
    "    vectorized, vectorizer = vectorize_text(text_data)\n",
    "    NMFmodel = NMF(\n",
    "    n_components=n_topics,  # 主题数量\n",
    "    max_iter=100,\n",
    "    init='nndsvd',\n",
    "    random_state=0,\n",
    "    )\n",
    "    NMFmodel.fit_transform(vectorized)\n",
    "    topic_words = vectorizer.get_feature_names_out()\n",
    "    topic_keywords = []\n",
    "    for topic_weights in NMFmodel.components_:\n",
    "        top_keyword_locs = (-topic_weights).argsort()[:8]\n",
    "        topic_keywords.append([topic_words[i] for i in top_keyword_locs])\n",
    "    doc_topics = NMFmodel.transform(vectorized)\n",
    "    clusters = np.argmax(doc_topics, axis=1)\n",
    "    return clusters"
   ],
   "metadata": {
    "collapsed": false
   }
  },
  {
   "cell_type": "code",
   "execution_count": 76,
   "outputs": [],
   "source": [],
   "metadata": {
    "collapsed": false
   }
  },
  {
   "cell_type": "code",
   "execution_count": 77,
   "outputs": [
    {
     "name": "stdout",
     "output_type": "stream",
     "text": [
      "0       0\n",
      "1       0\n",
      "2       2\n",
      "3       0\n",
      "4       2\n",
      "       ..\n",
      "2271    4\n",
      "2272    0\n",
      "2273    0\n",
      "2274    4\n",
      "2275    0\n",
      "Name: clusters, Length: 11368, dtype: int64\n"
     ]
    }
   ],
   "source": [
    "data['clusters'] = run_nmf(X_pre_remove,5)\n",
    "print(data['clusters'])"
   ],
   "metadata": {
    "collapsed": false
   }
  },
  {
   "cell_type": "code",
   "execution_count": 78,
   "outputs": [],
   "source": [
    "df_0 = data[data['clusters']==0]\n",
    "df_1 = data[data['clusters']==1]\n",
    "df_2 = data[data['clusters']==2]\n",
    "df_3 = data[data['clusters']==3]\n",
    "df_4 = data[data['clusters']==4]"
   ],
   "metadata": {
    "collapsed": false
   }
  },
  {
   "cell_type": "code",
   "execution_count": 79,
   "outputs": [
    {
     "data": {
      "text/plain": "<Figure size 640x480 with 5 Axes>",
      "image/png": "[encoded data removed]"
     },
     "metadata": {},
     "output_type": "display_data"
    }
   ],
   "source": [
    "fig, ax = plt.subplots(1,5)\n",
    "ax0 = sns.countplot(x=\"author\", data=df_0, ax=ax[0])\n",
    "ax1 = sns.countplot(x=\"author\", data=df_1, ax=ax[1])\n",
    "ax2 = sns.countplot(x=\"author\", data=df_2, ax=ax[2])\n",
    "ax3 = sns.countplot(x=\"author\", data=df_3, ax=ax[3])\n",
    "ax4 = sns.countplot(x=\"author\", data=df_4, ax=ax[4])\n",
    "plt.tight_layout()"
   ],
   "metadata": {
    "collapsed": false
   }
  },
  {
   "cell_type": "code",
   "execution_count": 80,
   "outputs": [],
   "source": [
    "from sklearn.model_selection import train_test_split\n",
    "from sklearn.svm import LinearSVC\n",
    "from sklearn.metrics import accuracy_score\n",
    "from sklearn.metrics import classification_report\n",
    "\n",
    "def train_test(df):\n",
    "    vectorizer = CountVectorizer(ngram_range=(1, 5), max_features=10000)\n",
    "    X = vectorizer.fit_transform(df['comment'])\n",
    "    y = np.asarray(df['author'])\n",
    "    X_train, X_test, y_train, y_test = train_test_split(X,\n",
    "                                                        y,\n",
    "                                                        test_size=0.2, # keep 20% for testing\n",
    "                                                        random_state=2 # pass an int for reproducible rtesult\n",
    "                                                        )\n",
    "\n",
    "    svm = LinearSVC(max_iter=100000)\n",
    "    svm.fit(X_train, y_train)\n",
    "\n",
    "    # 测试\n",
    "    y_pred = svm.predict(X_test)\n",
    "    print(classification_report(y_test, y_pred))\n",
    "    acc = accuracy_score(y_test, y_pred)\n",
    "    return acc"
   ],
   "metadata": {
    "collapsed": false
   }
  },
  {
   "cell_type": "code",
   "execution_count": 81,
   "outputs": [
    {
     "name": "stdout",
     "output_type": "stream",
     "text": [
      "              precision    recall  f1-score   support\n",
      "\n",
      "       user1       0.83      0.87      0.85       235\n",
      "      user10       0.69      0.65      0.67        81\n",
      "       user2       0.87      0.84      0.85       130\n",
      "       user3       0.68      0.77      0.72       180\n",
      "       user4       0.87      0.75      0.81        89\n",
      "       user5       0.69      0.68      0.68       182\n",
      "       user6       0.61      0.63      0.62       104\n",
      "       user7       0.89      0.79      0.84        96\n",
      "       user8       0.69      0.64      0.66       103\n",
      "       user9       0.70      0.73      0.72        94\n",
      "\n",
      "    accuracy                           0.75      1294\n",
      "   macro avg       0.75      0.74      0.74      1294\n",
      "weighted avg       0.75      0.75      0.75      1294\n",
      "\n"
     ]
    },
    {
     "name": "stderr",
     "output_type": "stream",
     "text": [
      "/opt/anaconda3/envs/ML/lib/python3.10/site-packages/sklearn/metrics/_classification.py:1327: UndefinedMetricWarning: Precision and F-score are ill-defined and being set to 0.0 in labels with no predicted samples. Use `zero_division` parameter to control this behavior.\n",
      "  _warn_prf(average, modifier, msg_start, len(result))\n",
      "/opt/anaconda3/envs/ML/lib/python3.10/site-packages/sklearn/metrics/_classification.py:1327: UndefinedMetricWarning: Precision and F-score are ill-defined and being set to 0.0 in labels with no predicted samples. Use `zero_division` parameter to control this behavior.\n",
      "  _warn_prf(average, modifier, msg_start, len(result))\n",
      "/opt/anaconda3/envs/ML/lib/python3.10/site-packages/sklearn/metrics/_classification.py:1327: UndefinedMetricWarning: Precision and F-score are ill-defined and being set to 0.0 in labels with no predicted samples. Use `zero_division` parameter to control this behavior.\n",
      "  _warn_prf(average, modifier, msg_start, len(result))\n"
     ]
    },
    {
     "name": "stdout",
     "output_type": "stream",
     "text": [
      "              precision    recall  f1-score   support\n",
      "\n",
      "       user1       0.30      0.38      0.33         8\n",
      "      user10       0.56      0.50      0.53        10\n",
      "       user2       0.82      0.93      0.87       101\n",
      "       user3       0.50      0.20      0.29        10\n",
      "       user4       0.00      0.00      0.00         7\n",
      "       user5       0.43      0.50      0.46         6\n",
      "       user6       0.64      0.52      0.57        27\n",
      "       user7       1.00      0.50      0.67         8\n",
      "       user8       0.73      0.75      0.74        32\n",
      "       user9       0.39      0.58      0.47        12\n",
      "\n",
      "    accuracy                           0.71       221\n",
      "   macro avg       0.54      0.49      0.49       221\n",
      "weighted avg       0.69      0.71      0.69       221\n",
      "\n",
      "              precision    recall  f1-score   support\n",
      "\n",
      "       user1       0.80      0.83      0.82        96\n",
      "      user10       0.42      0.42      0.42        12\n",
      "       user2       0.77      0.63      0.69        27\n",
      "       user3       0.60      0.66      0.63        32\n",
      "       user4       0.89      0.91      0.90        79\n",
      "       user5       0.51      0.68      0.58        31\n",
      "       user6       0.58      0.56      0.57        45\n",
      "       user7       0.90      0.82      0.86        33\n",
      "       user8       0.54      0.52      0.53        25\n",
      "       user9       0.43      0.20      0.27        15\n",
      "\n",
      "    accuracy                           0.72       395\n",
      "   macro avg       0.64      0.62      0.63       395\n",
      "weighted avg       0.72      0.72      0.72       395\n",
      "\n",
      "              precision    recall  f1-score   support\n",
      "\n",
      "       user1       0.00      0.00      0.00         1\n",
      "      user10       0.00      0.00      0.00         2\n",
      "       user2       0.00      0.00      0.00         3\n",
      "       user3       0.50      0.67      0.57         3\n",
      "       user4       0.00      0.00      0.00         1\n",
      "       user5       0.50      0.50      0.50         2\n",
      "       user6       0.00      0.00      0.00         2\n",
      "       user7       1.00      0.40      0.57         5\n",
      "       user9       0.21      1.00      0.35         3\n",
      "\n",
      "    accuracy                           0.36        22\n",
      "   macro avg       0.25      0.29      0.22        22\n",
      "weighted avg       0.37      0.36      0.30        22\n",
      "\n"
     ]
    },
    {
     "name": "stderr",
     "output_type": "stream",
     "text": [
      "/opt/anaconda3/envs/ML/lib/python3.10/site-packages/sklearn/metrics/_classification.py:1327: UndefinedMetricWarning: Precision and F-score are ill-defined and being set to 0.0 in labels with no predicted samples. Use `zero_division` parameter to control this behavior.\n",
      "  _warn_prf(average, modifier, msg_start, len(result))\n",
      "/opt/anaconda3/envs/ML/lib/python3.10/site-packages/sklearn/metrics/_classification.py:1327: UndefinedMetricWarning: Precision and F-score are ill-defined and being set to 0.0 in labels with no predicted samples. Use `zero_division` parameter to control this behavior.\n",
      "  _warn_prf(average, modifier, msg_start, len(result))\n",
      "/opt/anaconda3/envs/ML/lib/python3.10/site-packages/sklearn/metrics/_classification.py:1327: UndefinedMetricWarning: Precision and F-score are ill-defined and being set to 0.0 in labels with no predicted samples. Use `zero_division` parameter to control this behavior.\n",
      "  _warn_prf(average, modifier, msg_start, len(result))\n"
     ]
    },
    {
     "name": "stdout",
     "output_type": "stream",
     "text": [
      "              precision    recall  f1-score   support\n",
      "\n",
      "       user1       0.59      0.53      0.56        32\n",
      "      user10       0.54      0.56      0.55        34\n",
      "       user2       0.50      0.35      0.41        17\n",
      "       user3       0.60      0.73      0.65        51\n",
      "       user4       0.80      0.94      0.86        80\n",
      "       user5       0.67      0.44      0.53        18\n",
      "       user6       0.40      0.44      0.42        18\n",
      "       user7       0.87      0.80      0.83        50\n",
      "       user8       0.50      0.07      0.12        14\n",
      "       user9       0.55      0.59      0.57        29\n",
      "\n",
      "    accuracy                           0.66       343\n",
      "   macro avg       0.60      0.55      0.55       343\n",
      "weighted avg       0.66      0.66      0.65       343\n",
      "\n"
     ]
    }
   ],
   "source": [
    "df_list =[df_0, df_1, df_2, df_3,df_4]\n",
    "accs = []\n",
    "for df in df_list:\n",
    "    acc = train_test(df)\n",
    "    accs.append(acc)"
   ],
   "metadata": {
    "collapsed": false
   }
  },
  {
   "cell_type": "code",
   "execution_count": 82,
   "outputs": [
    {
     "name": "stdout",
     "output_type": "stream",
     "text": [
      "0.6408776573420469\n"
     ]
    }
   ],
   "source": [
    "print(np.mean(accs))"
   ],
   "metadata": {
    "collapsed": false
   }
  },
  {
   "cell_type": "code",
   "execution_count": 83,
   "outputs": [
    {
     "name": "stdout",
     "output_type": "stream",
     "text": [
      "              precision    recall  f1-score   support\n",
      "\n",
      "       user1       0.81      0.84      0.83       381\n",
      "      user10       0.72      0.75      0.74       155\n",
      "       user2       0.89      0.87      0.88       293\n",
      "       user3       0.73      0.73      0.73       263\n",
      "       user4       0.91      0.88      0.89       257\n",
      "       user5       0.64      0.64      0.64       204\n",
      "       user6       0.69      0.74      0.71       197\n",
      "       user7       0.91      0.83      0.87       185\n",
      "       user8       0.71      0.67      0.69       185\n",
      "       user9       0.66      0.70      0.68       154\n",
      "\n",
      "    accuracy                           0.78      2274\n",
      "   macro avg       0.77      0.76      0.76      2274\n",
      "weighted avg       0.78      0.78      0.78      2274\n",
      "\n",
      "0.7774846086191732\n"
     ]
    }
   ],
   "source": [
    "acc_all = train_test(data)\n",
    "print(acc_all)"
   ],
   "metadata": {
    "collapsed": false
   }
  },
  {
   "cell_type": "code",
   "execution_count": null,
   "outputs": [],
   "source": [],
   "metadata": {
    "collapsed": false
   }
  }
 ],
 "metadata": {
  "kernelspec": {
   "display_name": "Python 3",
   "language": "python",
   "name": "python3"
  },
  "language_info": {
   "codemirror_mode": {
    "name": "ipython",
    "version": 2
   },
   "file_extension": ".py",
   "mimetype": "text/x-python",
   "name": "python",
   "nbconvert_exporter": "python",
   "pygments_lexer": "ipython2",
   "version": "2.7.6"
  }
 },
 "nbformat": 4,
 "nbformat_minor": 0
}
